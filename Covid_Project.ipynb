{
    "metadata": {
        "kernelspec": {
            "name": "SQL",
            "display_name": "SQL",
            "language": "sql"
        },
        "language_info": {
            "name": "sql",
            "version": ""
        }
    },
    "nbformat_minor": 2,
    "nbformat": 4,
    "cells": [
        {
            "cell_type": "markdown",
            "source": [
                "<span style=\"color: rgb(74, 74, 74); font-family: -apple-system, system-ui, sans-serif; font-size: 14px; white-space: normal;\">Infection rate of each location (reported cases vs population). Consider reported cases, not unknown/empty</span>"
            ],
            "metadata": {
                "azdata_cell_guid": "0e476e8c-6201-40b7-8e8c-81542cfe4039"
            },
            "attachments": {}
        },
        {
            "cell_type": "code",
            "source": [
                "/*SELECT continent, location, date, population, total_cases, \n",
                "       ROUND(((CAST(total_cases AS float) / CAST(population AS float)) * 100), 4) AS Infection_rate\n",
                "FROM Covid_Infection..Covid_Death_Rate\n",
                "WHERE total_cases IS NOT NULL \n",
                "ORDER BY location, 4;*/\n",
                "\n",
                "--get the general infection rate for each countries\n",
                "WITH total AS (\n",
                "       SELECT location, population, AVG(total_cases) AS total_cases\n",
                "       FROM Covid_Infection..Covid_Death_Rate\n",
                "       WHERE total_cases IS NOT NULL\n",
                "       GROUP BY location, population \n",
                ")\n",
                "SELECT location, population, total_cases, \n",
                "       ROUND(((CAST(total_cases AS float) / CAST(population AS float)) * 100), 4) AS Infection_rate\n",
                "FROM total\n",
                "WHERE total_cases IS NOT NULL \n",
                "ORDER BY location, population"
            ],
            "metadata": {
                "azdata_cell_guid": "309cd0fb-fec5-496e-ad4c-5c9445b0a766",
                "tags": [
                    "hide_input"
                ],
                "language": "sql"
            },
            "outputs": [],
            "execution_count": null
        },
        {
            "cell_type": "markdown",
            "source": [
                "Top 5 country with highest infection rate"
            ],
            "metadata": {
                "azdata_cell_guid": "82069312-7343-4e6c-a51f-a5cb1b6aee65"
            },
            "attachments": {}
        },
        {
            "cell_type": "code",
            "source": [
                "SELECT TOP 5 location, population, MAX(total_cases) AS highest_case, \n",
                "       ROUND(MAX((CAST(total_cases AS float) / CAST(population AS float)) * 100), 4) AS Infection_rate\n",
                "FROM Covid_Infection..Covid_Death_Rate\n",
                "WHERE total_cases IS NOT NULL\n",
                "GROUP BY location, population \n",
                "ORDER BY Infection_rate DESC\n",
                ""
            ],
            "metadata": {
                "azdata_cell_guid": "6caccf60-36ea-4b78-aedb-ac27c6683bc3",
                "tags": [
                    "hide_input"
                ],
                "language": "sql"
            },
            "outputs": [],
            "execution_count": null
        },
        {
            "cell_type": "markdown",
            "source": [
                "Infection rate for each continent"
            ],
            "metadata": {
                "azdata_cell_guid": "4893e84f-c663-4e65-ad8a-5cd66e76e9e8"
            },
            "attachments": {}
        },
        {
            "cell_type": "code",
            "source": [
                "--need to find avg cases for each country, then sum the result\n",
                "/*\n",
                "SELECT continent, AVG(total_cases) AS avgcase\n",
                "FROM Covid_Infection..Covid_Death_Rate\n",
                "WHERE total_cases IS NOT NULL\n",
                "GROUP BY continent, location;\n",
                "*/\n",
                "WITH total AS (\n",
                "    SELECT continent, AVG(total_cases) AS avgcase\n",
                "    FROM Covid_Infection..Covid_Death_Rate\n",
                "    WHERE total_cases IS NOT NULL\n",
                "    GROUP BY continent, location\n",
                ")\n",
                "SELECT total.continent, SUM(dr.population) AS total_population, SUM(total.avgcase) AS continental_cases,\n",
                "        ROUND(((CAST(SUM(total.avgcase) AS float) / CAST(SUM(dr.population) AS float)) * 100),4) AS Infection_rate\n",
                "FROM Covid_Infection..Covid_Death_Rate dr\n",
                "JOIN total\n",
                "    ON dr.continent = total.continent\n",
                "GROUP BY total.continent\n",
                "ORDER BY total.continent;\n",
                "\n",
                "\n",
                ""
            ],
            "metadata": {
                "azdata_cell_guid": "68f54112-6813-4843-8556-4c636c1475b4",
                "tags": [
                    "hide_input"
                ],
                "language": "sql"
            },
            "outputs": [],
            "execution_count": null
        },
        {
            "cell_type": "markdown",
            "source": [
                "Is there a corrolation between population density and infection rate? (join both table, need to group by location)\n",
                "\n",
                "(Check calculation by find out how many country are there and if it match)"
            ],
            "metadata": {
                "azdata_cell_guid": "902bf659-4d01-40a8-9cc3-c34a3dc87511"
            },
            "attachments": {}
        },
        {
            "cell_type": "code",
            "source": [
                "--want to consider location where population density (in Covid Vaccination) is reported\n",
                "/*\n",
                "SELECT location, date, population_density\n",
                "FROM Covid_Infection..Covid_Vaccination\n",
                "WHERE population_density IS NOT NULL\n",
                "ORDER BY population_density;\n",
                "*/\n",
                "--consider pop_density and infection rate\n",
                "WITH infected_percent AS (\n",
                "    SELECT location, population, AVG(total_cases) AS avg_case, \n",
                "           ROUND(((CAST(AVG(total_cases) AS float) / CAST(population AS float)) * 100), 4) AS infection_rate\n",
                "    FROM Covid_Infection..Covid_Death_Rate\n",
                "    WHERE total_cases IS NOT NULL\n",
                "    GROUP BY location, population\n",
                ")\n",
                "SELECT va.location, va.population_density, infected_percent.population,\n",
                "       infected_percent.avg_case, infected_percent.infection_rate\n",
                "FROM Covid_Infection..Covid_Vaccination va\n",
                "JOIN infected_percent\n",
                "     ON va.location = infected_percent.location\n",
                "WHERE va.population_density IS NOT NULL\n",
                "GROUP BY va.location, va.population_density, infected_percent.location, \n",
                "         Infected_percent.population, infected_percent.avg_case, infected_percent.infection_rate\n",
                "ORDER BY va.population_density DESC;\n",
                "\n",
                "\n",
                ""
            ],
            "metadata": {
                "azdata_cell_guid": "1177dd0b-15d4-4ec3-a172-6f73686340dc",
                "tags": [
                    "hide_input"
                ],
                "language": "sql"
            },
            "outputs": [],
            "execution_count": null
        },
        {
            "cell_type": "code",
            "source": [
                "--checking queries/calculation \n",
                "SELECT COUNT(DISTINCT(location)) AS total_amount_of_country\n",
                "FROM Covid_Infection..Covid_Death_Rate\n",
                "WHERE total_cases IS NOT NULL "
            ],
            "metadata": {
                "azdata_cell_guid": "4877891b-6bc5-40df-8fc9-725196649538",
                "language": "sql",
                "tags": [
                    "hide_input"
                ]
            },
            "outputs": [],
            "execution_count": null
        },
        {
            "cell_type": "code",
            "source": [
                "--now calculate the correlation\n",
                "    --create table with query finding\n",
                "DROP TABLE IF EXISTS Infected_Rate\n",
                "CREATE TABLE Infected_Rate (\n",
                "    Location VARCHAR(50),\n",
                "    Population VARCHAR(50),\n",
                "    Population_Density FLOAT,\n",
                "    Infection_Rate FLOAT\n",
                ")\n",
                "INSERT INTO Infected_Rate\n",
                "SELECT va.location, infected_percent.population, va.population_density, infected_percent.Infection_rate\n",
                "FROM Covid_Infection..Covid_Vaccination va, \n",
                "    (SELECT location, population, AVG(total_cases) AS avg_case, \n",
                "     ROUND(((CAST(AVG(total_cases) AS float) / CAST(population AS float)) * 100), 4) AS Infection_rate\n",
                "     FROM Covid_Infection..Covid_Death_Rate\n",
                "     WHERE total_cases IS NOT NULL\n",
                "     GROUP BY location, population) infected_percent\n",
                "WHERE va.location = infected_percent.location\n",
                "AND va.population_density IS NOT NULL\n",
                "GROUP BY va.location, va.population_density, infected_percent.location, \n",
                "         infected_percent.population, infected_percent.Infection_rate\n",
                "ORDER BY va.population_density DESC;\n",
                "\n",
                "--calculate mean, var(), std deviation\n",
                "WITH Mean AS (\n",
                "    SELECT Population_Density, Infection_Rate,\n",
                "           AVG(Population_Density) OVER() AS density_mean, \n",
                "           AVG(Infection_Rate) OVER() AS infection_mean\n",
                "    FROM Infected_Rate\n",
                "),\n",
                "Variance AS (\n",
                "    SELECT AVG(POWER((Population_Density - density_mean), 2)) AS density_varr, \n",
                "           AVG(POWER((Infection_Rate - infection_mean), 2)) AS infection_varr\n",
                "    FROM Mean\n",
                "),\n",
                "Std_Dev AS (\n",
                "    SELECT STDEV(Population_Density) AS density_stdev, \n",
                "           STDEV(Infection_Rate) AS infection_stdev\n",
                "    FROM Mean\n",
                "),\n",
                "Covariance As (\n",
                "    SELECT AVG((Population_Density - density_mean) * (Infection_Rate - infection_mean)) AS cov\n",
                "    FROM Mean\n",
                ")\n",
                "SELECT ROUND(cov / (density_stdev * infection_stdev), 4) AS Correlation \n",
                "FROM Std_Dev, Covariance;\n",
                ""
            ],
            "metadata": {
                "language": "sql",
                "azdata_cell_guid": "b1ae86a8-83fd-40e5-8a9e-a271ca3aa9d4",
                "tags": [
                    "hide_input"
                ]
            },
            "outputs": [],
            "execution_count": null
        },
        {
            "cell_type": "markdown",
            "source": [
                "Are countries with lower GDP more likely to be infected? (consider gdp and infection rate)"
            ],
            "metadata": {
                "azdata_cell_guid": "1275b08d-701f-4e28-819b-54c8593e2ba7"
            },
            "attachments": {}
        },
        {
            "cell_type": "code",
            "source": [
                "--want to consider countries with reported gdp only\n",
                "/*\n",
                "SELECT location, gdp_per_capita\n",
                "FROM Covid_Infection..Covid_Vaccination\n",
                "WHERE gdp_per_capita IS NOT NULL\n",
                "GROUP BY location, gdp_per_capita\n",
                "ORDER BY gdp_per_capita;\n",
                "*/\n",
                "\n",
                "--consider gdp with infection rate\n",
                "WITH infection_rate AS (\n",
                "    SELECT location, population, AVG(total_cases) AS avgcase, \n",
                "           ROUND(((CAST(AVG(total_cases) AS float) / CAST(population AS float)) * 100), 4) AS Infection_rate\n",
                "    FROM Covid_Infection..Covid_Death_Rate\n",
                "    WHERE total_cases IS NOT NULL\n",
                "    GROUP BY location, population\n",
                ")\n",
                "SELECT va.location, infection_rate.population, va.gdp_per_capita, infection_rate.Infection_rate\n",
                "FROM Covid_Infection..Covid_Vaccination va\n",
                "JOIN infection_rate\n",
                "    ON va.location = infection_rate.location \n",
                "WHERE gdp_per_capita IS NOT NULL\n",
                "GROUP BY va.location, infection_rate.population, va.gdp_per_capita, infection_rate.Infection_rate\n",
                "ORDER BY infection_rate.population, va.gdp_per_capita;"
            ],
            "metadata": {
                "azdata_cell_guid": "81ded8ce-30a5-4ce9-a813-75318cbd9fd9",
                "tags": [
                    "hide_input"
                ],
                "language": "sql"
            },
            "outputs": [],
            "execution_count": null
        },
        {
            "cell_type": "code",
            "source": [
                "--find correlation\n",
                "DROP TABLE IF EXISTS Infecting_Rate\n",
                "CREATE TABLE Infecting_Rate (\n",
                "    Location VARCHAR(50),\n",
                "    Population VARCHAR(50),\n",
                "    GDP_Per_Capita FLOAT,\n",
                "    Infection_Rate FLOAT\n",
                ")\n",
                "INSERT INTO Infecting_Rate\n",
                "SELECT va.location, infection_rate.population, va.gdp_per_capita, infection_rate.Infection_rate\n",
                "FROM Covid_Infection..Covid_Vaccination va, \n",
                "     (SELECT location, population, AVG(total_cases) AS avgcase, \n",
                "           ROUND(((CAST(AVG(total_cases) AS float) / CAST(population AS float)) * 100), 4) AS Infection_rate\n",
                "    FROM Covid_Infection..Covid_Death_Rate\n",
                "    WHERE total_cases IS NOT NULL\n",
                "    GROUP BY location, population) AS infection_rate\n",
                "WHERE va.location = infection_rate.location \n",
                "AND gdp_per_capita IS NOT NULL\n",
                "GROUP BY va.location, infection_rate.population, va.gdp_per_capita, infection_rate.Infection_rate\n",
                "ORDER BY infection_rate.population, va.gdp_per_capita;\n",
                "WITH Mean AS (\n",
                "    SELECT GDP_Per_Capita, Infection_Rate,\n",
                "           AVG(GDP_Per_Capita) OVER() AS density_mean, \n",
                "           AVG(Infection_Rate) OVER() AS infection_mean\n",
                "    FROM Infecting_Rate\n",
                "),\n",
                "Variance AS (\n",
                "    SELECT AVG(POWER((GDP_Per_Capita - density_mean), 2)) AS gdp_varr, \n",
                "           AVG(POWER((Infection_Rate - infection_mean), 2)) AS infection_varr\n",
                "    FROM Mean\n",
                "),\n",
                "Std_Dev AS (\n",
                "    SELECT STDEV(GDP_Per_Capita) AS gdp_stdev, \n",
                "           STDEV(Infection_Rate) AS infection_stdev\n",
                "    FROM Mean\n",
                "),\n",
                "Covariance As (\n",
                "    SELECT AVG((GDP_Per_Capita - density_mean) * (Infection_Rate - infection_mean)) AS cov\n",
                "    FROM Mean\n",
                ")\n",
                "SELECT location, ROUND(cov / (gdp_stdev * infection_stdev), 4) AS Correlation \n",
                "FROM Infecting_Rate, Std_Dev, Covariance;"
            ],
            "metadata": {
                "language": "sql",
                "azdata_cell_guid": "8ff31e91-b879-4e1c-9f4d-dfac5895c8d9",
                "tags": [
                    "hide_input"
                ]
            },
            "outputs": [],
            "execution_count": null
        },
        {
            "cell_type": "markdown",
            "source": [
                "Percentage of hospitalization among infected cases for each location around the world (some location don't have record)"
            ],
            "metadata": {
                "azdata_cell_guid": "50ddb9b1-9b56-4442-a17a-b5ae6bad91d1"
            },
            "attachments": {}
        },
        {
            "cell_type": "code",
            "source": [
                "SELECT continent, location, date, total_cases, hosp_patients,\n",
                "       ROUND((CAST(hosp_patients AS float)/ CAST(total_cases AS float) * 100), 4) AS hospital_percent\n",
                "FROM Covid_Infection..Covid_Death_Rate\n",
                "WHERE hosp_patients IS NOT NULL \n",
                "ORDER BY 2, 3"
            ],
            "metadata": {
                "azdata_cell_guid": "946dd678-418a-4e5c-8202-b6ea7a59057f",
                "tags": [
                    "hide_input"
                ],
                "language": "sql"
            },
            "outputs": [],
            "execution_count": null
        },
        {
            "cell_type": "markdown",
            "source": [
                "Total death among infected cases for each location (calculating the death rate)"
            ],
            "metadata": {
                "azdata_cell_guid": "13941bfc-2d8d-443a-9ef2-6e34c36439b2"
            },
            "attachments": {}
        },
        {
            "cell_type": "code",
            "source": [
                "--consider countries with reported death cases \n",
                "SELECT continent, location, total_cases, total_deaths,\n",
                "       ROUND((CONVERT(float, total_deaths) / CONVERT(float, total_cases) * 100),4) AS death_percent\n",
                "FROM Covid_Infection..Covid_Death_Rate\n",
                "WHERE total_deaths IS NOT NULL \n",
                "AND total_cases IS NOT NULL "
            ],
            "metadata": {
                "azdata_cell_guid": "3663fcea-8d02-4a82-909d-592569644355",
                "tags": [
                    "hide_input"
                ],
                "language": "sql"
            },
            "outputs": [],
            "execution_count": null
        },
        {
            "cell_type": "markdown",
            "source": [
                "Testing percent for each country based on population of the country (what is percentage of people go testing)"
            ],
            "metadata": {
                "azdata_cell_guid": "62f46624-e596-4c5c-854e-19172eca87db"
            },
            "attachments": {}
        },
        {
            "cell_type": "code",
            "source": [
                "--consider countries with reported test cases\n",
                "SELECT va.location, de.population, va.total_tests,\n",
                "       ROUND((CONVERT(float, va.total_tests) / CONVERT(float, de.population) * 100), 4) AS test_percent\n",
                "FROM Covid_Infection..Covid_Vaccination va\n",
                "JOIN Covid_Infection..Covid_Death_Rate de\n",
                "    ON va.location = de.location \n",
                "    AND va.date = de.date \n",
                "WHERE total_tests IS NOT NULL\n",
                "ORDER BY va.location"
            ],
            "metadata": {
                "azdata_cell_guid": "83797955-e2e8-43ec-8097-32379b7b2044",
                "tags": [
                    "hide_input"
                ],
                "language": "sql"
            },
            "outputs": [],
            "execution_count": null
        },
        {
            "cell_type": "markdown",
            "source": [
                "Fully vaccination rate for each continent \n",
                "\n",
                "\\*For each country, it the same as people\\_fully\\_vaccinated\\_per\\_hundred\\*"
            ],
            "metadata": {
                "azdata_cell_guid": "1365ad02-9e11-40a8-ab00-feb8403a65d0"
            },
            "attachments": {}
        },
        {
            "cell_type": "code",
            "source": [
                "--continent: sum population and fully_vac to find continental vac percent\n",
                "WITH total AS(\n",
                "    SELECT va.continent, SUM(de.population) AS sum_pop, SUM(va.people_fully_vaccinated) AS sum_vac\n",
                "    FROM Covid_Infection..Covid_Vaccination va\n",
                "    JOIN Covid_Infection..Covid_Death_Rate de\n",
                "        ON va.location = de.location \n",
                "    AND va.date = de.date \n",
                "    WHERE people_fully_vaccinated IS NOT NULL\n",
                "    GROUP BY va.continent, de.continent\n",
                ")\n",
                "SELECT continent, sum_pop, sum_vac,\n",
                "       ROUND((CONVERT(float, sum_vac) / CONVERT(float, sum_pop) * 100), 4) AS vac_percent\n",
                "FROM total\n",
                "ORDER BY continent\n",
                ""
            ],
            "metadata": {
                "azdata_cell_guid": "f548481f-6a21-4705-9fbb-f40f7a45466f",
                "tags": [
                    "hide_input"
                ],
                "language": "sql"
            },
            "outputs": [],
            "execution_count": null
        },
        {
            "cell_type": "markdown",
            "source": [
                "Do countries with higher fully vaccination rate have lower death rate?"
            ],
            "metadata": {
                "azdata_cell_guid": "95ad5d36-c632-42a3-9314-f596642fce34"
            },
            "attachments": {}
        },
        {
            "cell_type": "code",
            "source": [
                "--find the lowest death rate\n",
                "/*\n",
                "SELECT location, MIN(total_cases) AS lowest_cases, MIN(total_deaths) AS lowest_death,\n",
                "       MIN(CONVERT(float, total_deaths) / CONVERT(float, total_cases) * 100) AS death_percent\n",
                "FROM Covid_Infection..Covid_Death_Rate\n",
                "WHERE total_deaths IS NOT NULL \n",
                "AND total_cases IS NOT NULL \n",
                "GROUP BY location, total_cases\n",
                "ORDER BY death_percent;\n",
                "\n",
                "--find highest fully vaccination rate\n",
                "SELECT location, MAX(people_fully_vaccinated_per_hundred) AS Highest_vaccination\n",
                "FROM Covid_Infection..Covid_Vaccination\n",
                "GROUP BY location \n",
                "ORDER BY Highest_vaccination DESC;\n",
                "*/\n",
                "--combine the two tables for reference\n",
                "WITH low_death_rate AS (\n",
                "   SELECT location, MIN(total_cases) AS lowest_cases, MIN(total_deaths) AS lowest_death,\n",
                "       ROUND(MIN(CONVERT(float, total_deaths) / CONVERT(float, total_cases) * 100), 4) AS death_percent\n",
                "   FROM Covid_Infection..Covid_Death_Rate\n",
                "   WHERE total_deaths IS NOT NULL \n",
                "   AND total_cases IS NOT NULL \n",
                "   GROUP BY location\n",
                ")\n",
                "SELECT va.location, low_death_rate.lowest_cases, \n",
                "       va.people_fully_vaccinated_per_hundred, \n",
                "       low_death_rate.death_percent\n",
                "FROM Covid_Infection..Covid_Vaccination va \n",
                "JOIN low_death_rate\n",
                "    ON va.location = low_death_rate.location\n",
                "ORDER BY va.people_fully_vaccinated_per_hundred DESC\n",
                ""
            ],
            "metadata": {
                "azdata_cell_guid": "4d1737a3-87c6-4899-9dd1-6686c5cb596d",
                "tags": [
                    "hide_input"
                ],
                "language": "sql"
            },
            "outputs": [],
            "execution_count": null
        },
        {
            "cell_type": "code",
            "source": [
                "--find the correlation between the two\n",
                "DROP TABLE IF EXISTS Death_Rate\n",
                "CREATE TABLE Death_Rate (\n",
                "    Location VARCHAR(50),\n",
                "    Population VARCHAR(50),\n",
                "    Fully_Vacc_Rates FLOAT,\n",
                "    Death_Rates FLOAT\n",
                ")\n",
                "INSERT INTO Death_Rate\n",
                "SELECT va.location, death_percent.population, va.people_fully_vaccinated, death_percent.Death_rate\n",
                "FROM Covid_Infection..Covid_Vaccination va, \n",
                "    (SELECT location, population, AVG(total_deaths) AS avg_case, \n",
                "     ROUND(((CAST(AVG(total_deaths) AS float) / CAST(population AS float)) * 100), 4) AS Death_rate\n",
                "     FROM Covid_Infection..Covid_Death_Rate\n",
                "     WHERE total_deaths IS NOT NULL\n",
                "     GROUP BY location, population) death_percent\n",
                "WHERE va.location = death_percent.location\n",
                "AND va.people_fully_vaccinated IS NOT NULL\n",
                "GROUP BY va.location, va.people_fully_vaccinated, death_percent.location, \n",
                "         death_percent.population, death_percent.Death_rate\n",
                "ORDER BY va.people_fully_vaccinated DESC;\n",
                "\n",
                "--calculate mean, var(), std deviation\n",
                "WITH Mean AS (\n",
                "    SELECT Fully_Vacc_Rates, Death_Rates,\n",
                "           AVG(Fully_Vacc_Rates) OVER() AS vacc_mean, \n",
                "           AVG(Death_Rates) OVER() AS death_mean\n",
                "    FROM Death_Rate\n",
                "),\n",
                "Variance AS (\n",
                "    SELECT AVG(POWER((Fully_Vacc_Rates - vacc_mean), 2)) AS vacc_varr, \n",
                "           AVG(POWER((Death_Rates - death_mean), 2)) AS death_varr\n",
                "    FROM Mean\n",
                "),\n",
                "Std_Dev AS (\n",
                "    SELECT STDEV(Fully_Vacc_Rates) AS vac_stdev, \n",
                "           STDEV(Death_Rates) AS death_stdev\n",
                "    FROM Mean\n",
                "),\n",
                "Covariance As (\n",
                "    SELECT AVG((Fully_Vacc_Rates - vacc_mean) * (Death_Rates - death_mean)) AS cov\n",
                "    FROM Mean\n",
                ")\n",
                "SELECT ROUND(cov / (vac_stdev * death_stdev), 4) AS Correlation \n",
                "FROM Std_Dev, Covariance;\n",
                ""
            ],
            "metadata": {
                "language": "sql",
                "azdata_cell_guid": "7feeb07e-d31b-4867-88ec-610375034763",
                "tags": [
                    "hide_input"
                ]
            },
            "outputs": [],
            "execution_count": null
        },
        {
            "cell_type": "markdown",
            "source": [
                "World stats: total cases, vaccination rate and death rate"
            ],
            "metadata": {
                "azdata_cell_guid": "80c3c499-8c6a-4b13-9388-8623a29a83e2"
            },
            "attachments": {}
        },
        {
            "cell_type": "code",
            "source": [
                "--join the tables\n",
                "SELECT SUM(de.total_cases) AS global_cases, \n",
                "       SUM(de.total_deaths) AS global_deaths,\n",
                "       SUM(va.people_fully_vaccinated) AS global_fully_vaccinated\n",
                "FROM Covid_Infection..Covid_Death_Rate de \n",
                "JOIN Covid_Infection..Covid_Vaccination va\n",
                "    ON de.location = va.location \n",
                "    AND de.date = va.date "
            ],
            "metadata": {
                "azdata_cell_guid": "8951fb3c-55e5-45f0-90ce-7adcd6ecc67b",
                "tags": [
                    "hide_input"
                ],
                "language": "sql"
            },
            "outputs": [],
            "execution_count": null
        }
    ]
}