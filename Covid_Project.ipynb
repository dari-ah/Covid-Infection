{
    "metadata": {
        "kernelspec": {
            "name": "SQL",
            "display_name": "SQL",
            "language": "sql"
        },
        "language_info": {
            "name": "sql",
            "version": ""
        }
    },
    "nbformat_minor": 2,
    "nbformat": 4,
    "cells": [
        {
            "cell_type": "markdown",
            "source": [
                "<span style=\"color: rgb(74, 74, 74); font-family: -apple-system, system-ui, sans-serif; font-size: 14px; white-space: normal;\">Infection rate of each location (reported cases vs population). Consider reported cases, not unknown/empty</span>"
            ],
            "metadata": {
                "azdata_cell_guid": "0e476e8c-6201-40b7-8e8c-81542cfe4039"
            },
            "attachments": {}
        },
        {
            "cell_type": "code",
            "source": [
                "/*SELECT continent, location, date, population, total_cases, \n",
                "       ROUND(((CAST(total_cases AS float) / CAST(population AS float)) * 100), 4) AS Infection_rate\n",
                "FROM Covid_Infection..Covid_Death_Rate\n",
                "WHERE total_cases IS NOT NULL \n",
                "ORDER BY location, 4;*/\n",
                "\n",
                "--get the general infection rate for each countries\n",
                "WITH total AS (\n",
                "       SELECT location, population, AVG(total_cases) AS total_cases\n",
                "       FROM Covid_Infection..Covid_Death_Rate\n",
                "       WHERE total_cases IS NOT NULL\n",
                "       GROUP BY location, population \n",
                ")\n",
                "SELECT location, population, total_cases, \n",
                "       ROUND(((CAST(total_cases AS float) / CAST(population AS float)) * 100), 4) AS Infection_rate\n",
                "FROM total\n",
                "WHERE total_cases IS NOT NULL \n",
                "ORDER BY location, population"
            ],
            "metadata": {
                "azdata_cell_guid": "309cd0fb-fec5-496e-ad4c-5c9445b0a766",
                "tags": [
                    "hide_input"
                ],
                "language": "sql"
            },
            "outputs": [],
            "execution_count": null
        },
        {
            "cell_type": "markdown",
            "source": [
                "Top 5 country with highest infection rate"
            ],
            "metadata": {
                "azdata_cell_guid": "82069312-7343-4e6c-a51f-a5cb1b6aee65"
            },
            "attachments": {}
        },
        {
            "cell_type": "code",
            "source": [
                "SELECT TOP 5 location, population, MAX(total_cases) AS highest_case, \n",
                "       ROUND(MAX((CAST(total_cases AS float) / CAST(population AS float)) * 100), 4) AS Infection_rate\n",
                "FROM Covid_Infection..Covid_Death_Rate\n",
                "WHERE total_cases IS NOT NULL\n",
                "GROUP BY location, population \n",
                "ORDER BY Infection_rate DESC\n",
                ""
            ],
            "metadata": {
                "azdata_cell_guid": "6caccf60-36ea-4b78-aedb-ac27c6683bc3",
                "tags": [
                    "hide_input"
                ],
                "language": "sql"
            },
            "outputs": [],
            "execution_count": null
        },
        {
            "cell_type": "markdown",
            "source": [
                "Infection rate for each continent"
            ],
            "metadata": {
                "azdata_cell_guid": "4893e84f-c663-4e65-ad8a-5cd66e76e9e8"
            },
            "attachments": {}
        },
        {
            "cell_type": "code",
            "source": [
                "--need to find avg cases for each country, then sum the result\n",
                "/*\n",
                "SELECT continent, AVG(total_cases) AS avgcase\n",
                "FROM Covid_Infection..Covid_Death_Rate\n",
                "WHERE total_cases IS NOT NULL\n",
                "GROUP BY continent, location;\n",
                "*/\n",
                "WITH total AS (\n",
                "    SELECT continent, AVG(total_cases) AS avgcase\n",
                "    FROM Covid_Infection..Covid_Death_Rate\n",
                "    WHERE total_cases IS NOT NULL\n",
                "    GROUP BY continent, location\n",
                ")\n",
                "SELECT total.continent, SUM(dr.population) AS total_population, SUM(total.avgcase) AS continental_cases,\n",
                "        ROUND(((CAST(SUM(total.avgcase) AS float) / CAST(SUM(dr.population) AS float)) * 100),4) AS Infection_rate\n",
                "FROM Covid_Infection..Covid_Death_Rate dr\n",
                "JOIN total\n",
                "    ON dr.continent = total.continent\n",
                "GROUP BY total.continent\n",
                "ORDER BY total.continent;\n",
                "\n",
                "\n",
                ""
            ],
            "metadata": {
                "azdata_cell_guid": "68f54112-6813-4843-8556-4c636c1475b4",
                "tags": [
                    "hide_input"
                ],
                "language": "sql"
            },
            "outputs": [],
            "execution_count": null
        },
        {
            "cell_type": "markdown",
            "source": [
                "Is there a corrolation between population density and infection rate? (join both table, need to group by location)\n",
                "\n",
                "(Check calculation by find out how many country are there and if it match)"
            ],
            "metadata": {
                "azdata_cell_guid": "902bf659-4d01-40a8-9cc3-c34a3dc87511"
            },
            "attachments": {}
        },
        {
            "cell_type": "code",
            "source": [
                "--want to consider location where population density (in Covid Vaccination) is reported\n",
                "/*\n",
                "SELECT location, date, population_density\n",
                "FROM Covid_Infection..Covid_Vaccination\n",
                "WHERE population_density IS NOT NULL\n",
                "ORDER BY population_density;\n",
                "*/\n",
                "--consider pop_density and infection rate\n",
                "WITH infected_percent AS (\n",
                "    SELECT location, population, AVG(total_cases) AS avg_case, \n",
                "           ROUND(((CAST(AVG(total_cases) AS float) / CAST(population AS float)) * 100), 4) AS infection_rate\n",
                "    FROM Covid_Infection..Covid_Death_Rate\n",
                "    WHERE total_cases IS NOT NULL\n",
                "    GROUP BY location, population\n",
                ")\n",
                "SELECT va.location, va.population_density, infected_percent.population,\n",
                "       infected_percent.avg_case, infected_percent.infection_rate\n",
                "FROM Covid_Infection..Covid_Vaccination va\n",
                "JOIN infected_percent\n",
                "     ON va.location = infected_percent.location\n",
                "WHERE va.population_density IS NOT NULL\n",
                "GROUP BY va.location, va.population_density, infected_percent.location, \n",
                "         Infected_percent.population, infected_percent.avg_case, infected_percent.infection_rate\n",
                "ORDER BY va.population_density DESC;\n",
                "\n",
                "\n",
                ""
            ],
            "metadata": {
                "azdata_cell_guid": "1177dd0b-15d4-4ec3-a172-6f73686340dc",
                "tags": [
                    "hide_input"
                ],
                "language": "sql"
            },
            "outputs": [],
            "execution_count": null
        },
        {
            "cell_type": "code",
            "source": [
                "--checking queries/calculation \n",
                "SELECT COUNT(DISTINCT(location)) AS total_amount_of_country\n",
                "FROM Covid_Infection..Covid_Death_Rate\n",
                "WHERE total_cases IS NOT NULL "
            ],
            "metadata": {
                "azdata_cell_guid": "4877891b-6bc5-40df-8fc9-725196649538",
                "language": "sql",
                "tags": [
                    "hide_input"
                ]
            },
            "outputs": [],
            "execution_count": null
        },
        {
            "cell_type": "code",
            "source": [
                "--now calculate the correlation\n",
                "    --create table with query finding\n",
                "DROP TABLE IF EXISTS Infected_Rate\n",
                "CREATE TABLE Infected_Rate (\n",
                "    Location VARCHAR(50),\n",
                "    Population VARCHAR(50),\n",
                "    Population_Density FLOAT,\n",
                "    Infection_Rate FLOAT\n",
                ")\n",
                "INSERT INTO Infected_Rate\n",
                "SELECT va.location, infected_percent.population, va.population_density, infected_percent.Infection_rate\n",
                "FROM Covid_Infection..Covid_Vaccination va, \n",
                "    (SELECT location, population, AVG(total_cases) AS avg_case, \n",
                "     ROUND(((CAST(AVG(total_cases) AS float) / CAST(population AS float)) * 100), 4) AS Infection_rate\n",
                "     FROM Covid_Infection..Covid_Death_Rate\n",
                "     WHERE total_cases IS NOT NULL\n",
                "     GROUP BY location, population) infected_percent\n",
                "WHERE va.location = infected_percent.location\n",
                "AND va.population_density IS NOT NULL\n",
                "GROUP BY va.location, va.population_density, infected_percent.location, \n",
                "         infected_percent.population, infected_percent.Infection_rate\n",
                "ORDER BY va.population_density DESC;\n",
                "\n",
                "--calculate mean, var(), std deviation\n",
                "WITH Mean AS (\n",
                "    SELECT Population_Density, Infection_Rate,\n",
                "           AVG(Population_Density) OVER() AS density_mean, \n",
                "           AVG(Infection_Rate) OVER() AS infection_mean\n",
                "    FROM Infected_Rate\n",
                "),\n",
                "Variance AS (\n",
                "    SELECT AVG(POWER((Population_Density - density_mean), 2)) AS density_varr, \n",
                "           AVG(POWER((Infection_Rate - infection_mean), 2)) AS infection_varr\n",
                "    FROM Mean\n",
                "),\n",
                "Std_Dev AS (\n",
                "    SELECT STDEV(Population_Density) AS density_stdev, \n",
                "           STDEV(Infection_Rate) AS infection_stdev\n",
                "    FROM Mean\n",
                "),\n",
                "Covariance As (\n",
                "    SELECT AVG((Population_Density - density_mean) * (Infection_Rate - infection_mean)) AS cov\n",
                "    FROM Mean\n",
                ")\n",
                "SELECT ROUND(cov / (density_stdev * infection_stdev), 4) AS Correlation \n",
                "FROM Std_Dev, Covariance;\n",
                ""
            ],
            "metadata": {
                "language": "sql",
                "azdata_cell_guid": "b1ae86a8-83fd-40e5-8a9e-a271ca3aa9d4",
                "tags": [
                    "hide_input"
                ]
            },
            "outputs": [],
            "execution_count": null
        },
        {
            "cell_type": "markdown",
            "source": [
                "Are countries with lower GDP more likely to be infected? (consider gdp and infection rate)"
            ],
            "metadata": {
                "azdata_cell_guid": "1275b08d-701f-4e28-819b-54c8593e2ba7"
            },
            "attachments": {}
        },
        {
            "cell_type": "code",
            "source": [
                "--want to consider countries with reported gdp only\n",
                "/*\n",
                "SELECT location, gdp_per_capita\n",
                "FROM Covid_Infection..Covid_Vaccination\n",
                "WHERE gdp_per_capita IS NOT NULL\n",
                "GROUP BY location, gdp_per_capita\n",
                "ORDER BY gdp_per_capita;\n",
                "*/\n",
                "\n",
                "--consider gdp with infection rate\n",
                "WITH infection_rate AS (\n",
                "    SELECT location, population, AVG(total_cases) AS avgcase, \n",
                "           ROUND(((CAST(AVG(total_cases) AS float) / CAST(population AS float)) * 100), 4) AS Infection_rate\n",
                "    FROM Covid_Infection..Covid_Death_Rate\n",
                "    WHERE total_cases IS NOT NULL\n",
                "    GROUP BY location, population\n",
                ")\n",
                "SELECT va.location, infection_rate.population, va.gdp_per_capita, infection_rate.Infection_rate\n",
                "FROM Covid_Infection..Covid_Vaccination va\n",
                "JOIN infection_rate\n",
                "    ON va.location = infection_rate.location \n",
                "WHERE gdp_per_capita IS NOT NULL\n",
                "GROUP BY va.location, infection_rate.population, va.gdp_per_capita, infection_rate.Infection_rate\n",
                "ORDER BY infection_rate.population, va.gdp_per_capita;"
            ],
            "metadata": {
                "azdata_cell_guid": "81ded8ce-30a5-4ce9-a813-75318cbd9fd9",
                "tags": [
                    "hide_input"
                ],
                "language": "sql"
            },
            "outputs": [],
            "execution_count": null
        },
        {
            "cell_type": "code",
            "source": [
                "--find correlation\n",
                "DROP TABLE IF EXISTS Infecting_Rate\n",
                "CREATE TABLE Infecting_Rate (\n",
                "    Location VARCHAR(50),\n",
                "    Population VARCHAR(50),\n",
                "    GDP_Per_Capita FLOAT,\n",
                "    Infection_Rate FLOAT\n",
                ")\n",
                "INSERT INTO Infecting_Rate\n",
                "SELECT va.location, infection_rate.population, va.gdp_per_capita, infection_rate.Infection_rate\n",
                "FROM Covid_Infection..Covid_Vaccination va, \n",
                "     (SELECT location, population, AVG(total_cases) AS avgcase, \n",
                "           ROUND(((CAST(AVG(total_cases) AS float) / CAST(population AS float)) * 100), 4) AS Infection_rate\n",
                "    FROM Covid_Infection..Covid_Death_Rate\n",
                "    WHERE total_cases IS NOT NULL\n",
                "    GROUP BY location, population) AS infection_rate\n",
                "WHERE va.location = infection_rate.location \n",
                "AND gdp_per_capita IS NOT NULL\n",
                "GROUP BY va.location, infection_rate.population, va.gdp_per_capita, infection_rate.Infection_rate\n",
                "ORDER BY infection_rate.population, va.gdp_per_capita;\n",
                "WITH Mean AS (\n",
                "    SELECT GDP_Per_Capita, Infection_Rate,\n",
                "           AVG(GDP_Per_Capita) OVER() AS density_mean, \n",
                "           AVG(Infection_Rate) OVER() AS infection_mean\n",
                "    FROM Infecting_Rate\n",
                "),\n",
                "Variance AS (\n",
                "    SELECT AVG(POWER((GDP_Per_Capita - density_mean), 2)) AS gdp_varr, \n",
                "           AVG(POWER((Infection_Rate - infection_mean), 2)) AS infection_varr\n",
                "    FROM Mean\n",
                "),\n",
                "Std_Dev AS (\n",
                "    SELECT STDEV(GDP_Per_Capita) AS gdp_stdev, \n",
                "           STDEV(Infection_Rate) AS infection_stdev\n",
                "    FROM Mean\n",
                "),\n",
                "Covariance As (\n",
                "    SELECT AVG((GDP_Per_Capita - density_mean) * (Infection_Rate - infection_mean)) AS cov\n",
                "    FROM Mean\n",
                ")\n",
                "SELECT location, ROUND(cov / (gdp_stdev * infection_stdev), 4) AS Correlation \n",
                "FROM Infecting_Rate, Std_Dev, Covariance;"
            ],
            "metadata": {
                "language": "sql",
                "azdata_cell_guid": "8ff31e91-b879-4e1c-9f4d-dfac5895c8d9",
                "tags": []
            },
            "outputs": [
                {
                    "output_type": "display_data",
                    "data": {
                        "text/html": "(184 rows affected)"
                    },
                    "metadata": {}
                },
                {
                    "output_type": "display_data",
                    "data": {
                        "text/html": "(184 rows affected)"
                    },
                    "metadata": {}
                },
                {
                    "output_type": "display_data",
                    "data": {
                        "text/html": "Total execution time: 00:00:01.300"
                    },
                    "metadata": {}
                },
                {
                    "output_type": "execute_result",
                    "metadata": {},
                    "execution_count": 3,
                    "data": {
                        "application/vnd.dataresource+json": {
                            "schema": {
                                "fields": [
                                    {
                                        "name": "location"
                                    },
                                    {
                                        "name": "Correlation"
                                    }
                                ]
                            },
                            "data": [
                                {
                                    "0": "Solomon Islands",
                                    "1": "0.5121"
                                },
                                {
                                    "0": "Singapore",
                                    "1": "0.5121"
                                },
                                {
                                    "0": "Maldives",
                                    "1": "0.5121"
                                },
                                {
                                    "0": "Saint Kitts and Nevis",
                                    "1": "0.5121"
                                },
                                {
                                    "0": "Rwanda",
                                    "1": "0.5121"
                                },
                                {
                                    "0": "Albania",
                                    "1": "0.5121"
                                },
                                {
                                    "0": "Cambodia",
                                    "1": "0.5121"
                                },
                                {
                                    "0": "Mexico",
                                    "1": "0.5121"
                                },
                                {
                                    "0": "Kenya",
                                    "1": "0.5121"
                                },
                                {
                                    "0": "Libya",
                                    "1": "0.5121"
                                },
                                {
                                    "0": "Peru",
                                    "1": "0.5121"
                                },
                                {
                                    "0": "Dominican Republic",
                                    "1": "0.5121"
                                },
                                {
                                    "0": "Pakistan",
                                    "1": "0.5121"
                                },
                                {
                                    "0": "Liberia",
                                    "1": "0.5121"
                                },
                                {
                                    "0": "Malta",
                                    "1": "0.5121"
                                },
                                {
                                    "0": "Niger",
                                    "1": "0.5121"
                                },
                                {
                                    "0": "United States",
                                    "1": "0.5121"
                                },
                                {
                                    "0": "Democratic Republic of Congo",
                                    "1": "0.5121"
                                },
                                {
                                    "0": "Cyprus",
                                    "1": "0.5121"
                                },
                                {
                                    "0": "Kosovo",
                                    "1": "0.5121"
                                },
                                {
                                    "0": "Montenegro",
                                    "1": "0.5121"
                                },
                                {
                                    "0": "Iceland",
                                    "1": "0.5121"
                                },
                                {
                                    "0": "Gabon",
                                    "1": "0.5121"
                                },
                                {
                                    "0": "Trinidad and Tobago",
                                    "1": "0.5121"
                                },
                                {
                                    "0": "Malawi",
                                    "1": "0.5121"
                                },
                                {
                                    "0": "San Marino",
                                    "1": "0.5121"
                                },
                                {
                                    "0": "Congo",
                                    "1": "0.5121"
                                },
                                {
                                    "0": "United Kingdom",
                                    "1": "0.5121"
                                },
                                {
                                    "0": "Indonesia",
                                    "1": "0.5121"
                                },
                                {
                                    "0": "Papua New Guinea",
                                    "1": "0.5121"
                                },
                                {
                                    "0": "Portugal",
                                    "1": "0.5121"
                                },
                                {
                                    "0": "Botswana",
                                    "1": "0.5121"
                                },
                                {
                                    "0": "Luxembourg",
                                    "1": "0.5121"
                                },
                                {
                                    "0": "Tanzania",
                                    "1": "0.5121"
                                },
                                {
                                    "0": "Ireland",
                                    "1": "0.5121"
                                },
                                {
                                    "0": "Belgium",
                                    "1": "0.5121"
                                },
                                {
                                    "0": "Guatemala",
                                    "1": "0.5121"
                                },
                                {
                                    "0": "Zimbabwe",
                                    "1": "0.5121"
                                },
                                {
                                    "0": "Latvia",
                                    "1": "0.5121"
                                },
                                {
                                    "0": "Grenada",
                                    "1": "0.5121"
                                },
                                {
                                    "0": "Saudi Arabia",
                                    "1": "0.5121"
                                },
                                {
                                    "0": "Croatia",
                                    "1": "0.5121"
                                },
                                {
                                    "0": "Lesotho",
                                    "1": "0.5121"
                                },
                                {
                                    "0": "Kazakhstan",
                                    "1": "0.5121"
                                },
                                {
                                    "0": "Ghana",
                                    "1": "0.5121"
                                },
                                {
                                    "0": "Eswatini",
                                    "1": "0.5121"
                                },
                                {
                                    "0": "Iraq",
                                    "1": "0.5121"
                                },
                                {
                                    "0": "Cameroon",
                                    "1": "0.5121"
                                },
                                {
                                    "0": "El Salvador",
                                    "1": "0.5121"
                                },
                                {
                                    "0": "Kyrgyzstan",
                                    "1": "0.5121"
                                },
                                {
                                    "0": "Tunisia",
                                    "1": "0.5121"
                                },
                                {
                                    "0": "Paraguay",
                                    "1": "0.5121"
                                },
                                {
                                    "0": "Costa Rica",
                                    "1": "0.5121"
                                },
                                {
                                    "0": "Burkina Faso",
                                    "1": "0.5121"
                                },
                                {
                                    "0": "Djibouti",
                                    "1": "0.5121"
                                },
                                {
                                    "0": "Gambia",
                                    "1": "0.5121"
                                },
                                {
                                    "0": "Jordan",
                                    "1": "0.5121"
                                },
                                {
                                    "0": "Bosnia and Herzegovina",
                                    "1": "0.5121"
                                },
                                {
                                    "0": "Lebanon",
                                    "1": "0.5121"
                                },
                                {
                                    "0": "Tajikistan",
                                    "1": "0.5121"
                                },
                                {
                                    "0": "Israel",
                                    "1": "0.5121"
                                },
                                {
                                    "0": "Ukraine",
                                    "1": "0.5121"
                                },
                                {
                                    "0": "Mozambique",
                                    "1": "0.5121"
                                },
                                {
                                    "0": "Sao Tome and Principe",
                                    "1": "0.5121"
                                },
                                {
                                    "0": "Serbia",
                                    "1": "0.5121"
                                },
                                {
                                    "0": "Argentina",
                                    "1": "0.5121"
                                },
                                {
                                    "0": "Yemen",
                                    "1": "0.5121"
                                },
                                {
                                    "0": "Azerbaijan",
                                    "1": "0.5121"
                                },
                                {
                                    "0": "Zambia",
                                    "1": "0.5121"
                                },
                                {
                                    "0": "Benin",
                                    "1": "0.5121"
                                },
                                {
                                    "0": "Brazil",
                                    "1": "0.5121"
                                },
                                {
                                    "0": "Malaysia",
                                    "1": "0.5121"
                                },
                                {
                                    "0": "South Sudan",
                                    "1": "0.5121"
                                },
                                {
                                    "0": "South Korea",
                                    "1": "0.5121"
                                },
                                {
                                    "0": "Micronesia (country)",
                                    "1": "0.5121"
                                },
                                {
                                    "0": "Myanmar",
                                    "1": "0.5121"
                                },
                                {
                                    "0": "Colombia",
                                    "1": "0.5121"
                                },
                                {
                                    "0": "Philippines",
                                    "1": "0.5121"
                                },
                                {
                                    "0": "Haiti",
                                    "1": "0.5121"
                                },
                                {
                                    "0": "Laos",
                                    "1": "0.5121"
                                },
                                {
                                    "0": "Oman",
                                    "1": "0.5121"
                                },
                                {
                                    "0": "Algeria",
                                    "1": "0.5121"
                                },
                                {
                                    "0": "Cape Verde",
                                    "1": "0.5121"
                                },
                                {
                                    "0": "Lithuania",
                                    "1": "0.5121"
                                },
                                {
                                    "0": "New Zealand",
                                    "1": "0.5121"
                                },
                                {
                                    "0": "Bahamas",
                                    "1": "0.5121"
                                },
                                {
                                    "0": "Eritrea",
                                    "1": "0.5121"
                                },
                                {
                                    "0": "Kuwait",
                                    "1": "0.5121"
                                },
                                {
                                    "0": "Bahrain",
                                    "1": "0.5121"
                                },
                                {
                                    "0": "Bulgaria",
                                    "1": "0.5121"
                                },
                                {
                                    "0": "Nepal",
                                    "1": "0.5121"
                                },
                                {
                                    "0": "Bhutan",
                                    "1": "0.5121"
                                },
                                {
                                    "0": "Denmark",
                                    "1": "0.5121"
                                },
                                {
                                    "0": "Sweden",
                                    "1": "0.5121"
                                },
                                {
                                    "0": "Burundi",
                                    "1": "0.5121"
                                },
                                {
                                    "0": "Dominica",
                                    "1": "0.5121"
                                },
                                {
                                    "0": "Nigeria",
                                    "1": "0.5121"
                                },
                                {
                                    "0": "Namibia",
                                    "1": "0.5121"
                                },
                                {
                                    "0": "Antigua and Barbuda",
                                    "1": "0.5121"
                                },
                                {
                                    "0": "Uganda",
                                    "1": "0.5121"
                                },
                                {
                                    "0": "Ethiopia",
                                    "1": "0.5121"
                                },
                                {
                                    "0": "Madagascar",
                                    "1": "0.5121"
                                },
                                {
                                    "0": "Bangladesh",
                                    "1": "0.5121"
                                },
                                {
                                    "0": "Mauritania",
                                    "1": "0.5121"
                                },
                                {
                                    "0": "Russia",
                                    "1": "0.5121"
                                },
                                {
                                    "0": "Sudan",
                                    "1": "0.5121"
                                },
                                {
                                    "0": "Ecuador",
                                    "1": "0.5121"
                                },
                                {
                                    "0": "Netherlands",
                                    "1": "0.5121"
                                },
                                {
                                    "0": "Estonia",
                                    "1": "0.5121"
                                },
                                {
                                    "0": "Saint Vincent and the Grenadines",
                                    "1": "0.5121"
                                },
                                {
                                    "0": "Hungary",
                                    "1": "0.5121"
                                },
                                {
                                    "0": "Samoa",
                                    "1": "0.5121"
                                },
                                {
                                    "0": "Mauritius",
                                    "1": "0.5121"
                                },
                                {
                                    "0": "Switzerland",
                                    "1": "0.5121"
                                },
                                {
                                    "0": "Morocco",
                                    "1": "0.5121"
                                },
                                {
                                    "0": "France",
                                    "1": "0.5121"
                                },
                                {
                                    "0": "Palestine",
                                    "1": "0.5121"
                                },
                                {
                                    "0": "Vanuatu",
                                    "1": "0.5121"
                                },
                                {
                                    "0": "Spain",
                                    "1": "0.5121"
                                },
                                {
                                    "0": "Belarus",
                                    "1": "0.5121"
                                },
                                {
                                    "0": "Cote d'Ivoire",
                                    "1": "0.5121"
                                },
                                {
                                    "0": "Marshall Islands",
                                    "1": "0.5121"
                                },
                                {
                                    "0": "Mongolia",
                                    "1": "0.5121"
                                },
                                {
                                    "0": "Senegal",
                                    "1": "0.5121"
                                },
                                {
                                    "0": "Jamaica",
                                    "1": "0.5121"
                                },
                                {
                                    "0": "Timor",
                                    "1": "0.5121"
                                },
                                {
                                    "0": "Hong Kong",
                                    "1": "0.5121"
                                },
                                {
                                    "0": "Australia",
                                    "1": "0.5121"
                                },
                                {
                                    "0": "Uzbekistan",
                                    "1": "0.5121"
                                },
                                {
                                    "0": "Guinea",
                                    "1": "0.5121"
                                },
                                {
                                    "0": "Chad",
                                    "1": "0.5121"
                                },
                                {
                                    "0": "Sri Lanka",
                                    "1": "0.5121"
                                },
                                {
                                    "0": "Qatar",
                                    "1": "0.5121"
                                },
                                {
                                    "0": "Guyana",
                                    "1": "0.5121"
                                },
                                {
                                    "0": "Turkey",
                                    "1": "0.5121"
                                },
                                {
                                    "0": "Georgia",
                                    "1": "0.5121"
                                },
                                {
                                    "0": "Uruguay",
                                    "1": "0.5121"
                                },
                                {
                                    "0": "Austria",
                                    "1": "0.5121"
                                },
                                {
                                    "0": "Vietnam",
                                    "1": "0.5121"
                                },
                                {
                                    "0": "Canada",
                                    "1": "0.5121"
                                },
                                {
                                    "0": "Barbados",
                                    "1": "0.5121"
                                },
                                {
                                    "0": "Finland",
                                    "1": "0.5121"
                                },
                                {
                                    "0": "Nicaragua",
                                    "1": "0.5121"
                                },
                                {
                                    "0": "Bolivia",
                                    "1": "0.5121"
                                },
                                {
                                    "0": "Chile",
                                    "1": "0.5121"
                                },
                                {
                                    "0": "Honduras",
                                    "1": "0.5121"
                                },
                                {
                                    "0": "Germany",
                                    "1": "0.5121"
                                },
                                {
                                    "0": "Saint Lucia",
                                    "1": "0.5121"
                                },
                                {
                                    "0": "Norway",
                                    "1": "0.5121"
                                },
                                {
                                    "0": "Armenia",
                                    "1": "0.5121"
                                },
                                {
                                    "0": "Brunei",
                                    "1": "0.5121"
                                },
                                {
                                    "0": "United Arab Emirates",
                                    "1": "0.5121"
                                },
                                {
                                    "0": "Iran",
                                    "1": "0.5121"
                                },
                                {
                                    "0": "Belize",
                                    "1": "0.5121"
                                },
                                {
                                    "0": "Slovakia",
                                    "1": "0.5121"
                                },
                                {
                                    "0": "Fiji",
                                    "1": "0.5121"
                                },
                                {
                                    "0": "Greece",
                                    "1": "0.5121"
                                },
                                {
                                    "0": "Guinea-Bissau",
                                    "1": "0.5121"
                                },
                                {
                                    "0": "Suriname",
                                    "1": "0.5121"
                                },
                                {
                                    "0": "Sierra Leone",
                                    "1": "0.5121"
                                },
                                {
                                    "0": "Poland",
                                    "1": "0.5121"
                                },
                                {
                                    "0": "Seychelles",
                                    "1": "0.5121"
                                },
                                {
                                    "0": "Equatorial Guinea",
                                    "1": "0.5121"
                                },
                                {
                                    "0": "India",
                                    "1": "0.5121"
                                },
                                {
                                    "0": "Kiribati",
                                    "1": "0.5121"
                                },
                                {
                                    "0": "South Africa",
                                    "1": "0.5121"
                                },
                                {
                                    "0": "Togo",
                                    "1": "0.5121"
                                },
                                {
                                    "0": "Central African Republic",
                                    "1": "0.5121"
                                },
                                {
                                    "0": "Comoros",
                                    "1": "0.5121"
                                },
                                {
                                    "0": "Afghanistan",
                                    "1": "0.5121"
                                },
                                {
                                    "0": "Moldova",
                                    "1": "0.5121"
                                },
                                {
                                    "0": "Romania",
                                    "1": "0.5121"
                                },
                                {
                                    "0": "Venezuela",
                                    "1": "0.5121"
                                },
                                {
                                    "0": "Italy",
                                    "1": "0.5121"
                                },
                                {
                                    "0": "Mali",
                                    "1": "0.5121"
                                },
                                {
                                    "0": "Panama",
                                    "1": "0.5121"
                                },
                                {
                                    "0": "Japan",
                                    "1": "0.5121"
                                },
                                {
                                    "0": "Angola",
                                    "1": "0.5121"
                                },
                                {
                                    "0": "China",
                                    "1": "0.5121"
                                },
                                {
                                    "0": "Slovenia",
                                    "1": "0.5121"
                                },
                                {
                                    "0": "Czechia",
                                    "1": "0.5121"
                                },
                                {
                                    "0": "Thailand",
                                    "1": "0.5121"
                                },
                                {
                                    "0": "Egypt",
                                    "1": "0.5121"
                                },
                                {
                                    "0": "North Macedonia",
                                    "1": "0.5121"
                                }
                            ]
                        },
                        "text/html": [
                            "<table>",
                            "<tr><th>location</th><th>Correlation</th></tr>",
                            "<tr><td>Solomon Islands</td><td>0.5121</td></tr>",
                            "<tr><td>Singapore</td><td>0.5121</td></tr>",
                            "<tr><td>Maldives</td><td>0.5121</td></tr>",
                            "<tr><td>Saint Kitts and Nevis</td><td>0.5121</td></tr>",
                            "<tr><td>Rwanda</td><td>0.5121</td></tr>",
                            "<tr><td>Albania</td><td>0.5121</td></tr>",
                            "<tr><td>Cambodia</td><td>0.5121</td></tr>",
                            "<tr><td>Mexico</td><td>0.5121</td></tr>",
                            "<tr><td>Kenya</td><td>0.5121</td></tr>",
                            "<tr><td>Libya</td><td>0.5121</td></tr>",
                            "<tr><td>Peru</td><td>0.5121</td></tr>",
                            "<tr><td>Dominican Republic</td><td>0.5121</td></tr>",
                            "<tr><td>Pakistan</td><td>0.5121</td></tr>",
                            "<tr><td>Liberia</td><td>0.5121</td></tr>",
                            "<tr><td>Malta</td><td>0.5121</td></tr>",
                            "<tr><td>Niger</td><td>0.5121</td></tr>",
                            "<tr><td>United States</td><td>0.5121</td></tr>",
                            "<tr><td>Democratic Republic of Congo</td><td>0.5121</td></tr>",
                            "<tr><td>Cyprus</td><td>0.5121</td></tr>",
                            "<tr><td>Kosovo</td><td>0.5121</td></tr>",
                            "<tr><td>Montenegro</td><td>0.5121</td></tr>",
                            "<tr><td>Iceland</td><td>0.5121</td></tr>",
                            "<tr><td>Gabon</td><td>0.5121</td></tr>",
                            "<tr><td>Trinidad and Tobago</td><td>0.5121</td></tr>",
                            "<tr><td>Malawi</td><td>0.5121</td></tr>",
                            "<tr><td>San Marino</td><td>0.5121</td></tr>",
                            "<tr><td>Congo</td><td>0.5121</td></tr>",
                            "<tr><td>United Kingdom</td><td>0.5121</td></tr>",
                            "<tr><td>Indonesia</td><td>0.5121</td></tr>",
                            "<tr><td>Papua New Guinea</td><td>0.5121</td></tr>",
                            "<tr><td>Portugal</td><td>0.5121</td></tr>",
                            "<tr><td>Botswana</td><td>0.5121</td></tr>",
                            "<tr><td>Luxembourg</td><td>0.5121</td></tr>",
                            "<tr><td>Tanzania</td><td>0.5121</td></tr>",
                            "<tr><td>Ireland</td><td>0.5121</td></tr>",
                            "<tr><td>Belgium</td><td>0.5121</td></tr>",
                            "<tr><td>Guatemala</td><td>0.5121</td></tr>",
                            "<tr><td>Zimbabwe</td><td>0.5121</td></tr>",
                            "<tr><td>Latvia</td><td>0.5121</td></tr>",
                            "<tr><td>Grenada</td><td>0.5121</td></tr>",
                            "<tr><td>Saudi Arabia</td><td>0.5121</td></tr>",
                            "<tr><td>Croatia</td><td>0.5121</td></tr>",
                            "<tr><td>Lesotho</td><td>0.5121</td></tr>",
                            "<tr><td>Kazakhstan</td><td>0.5121</td></tr>",
                            "<tr><td>Ghana</td><td>0.5121</td></tr>",
                            "<tr><td>Eswatini</td><td>0.5121</td></tr>",
                            "<tr><td>Iraq</td><td>0.5121</td></tr>",
                            "<tr><td>Cameroon</td><td>0.5121</td></tr>",
                            "<tr><td>El Salvador</td><td>0.5121</td></tr>",
                            "<tr><td>Kyrgyzstan</td><td>0.5121</td></tr>",
                            "<tr><td>Tunisia</td><td>0.5121</td></tr>",
                            "<tr><td>Paraguay</td><td>0.5121</td></tr>",
                            "<tr><td>Costa Rica</td><td>0.5121</td></tr>",
                            "<tr><td>Burkina Faso</td><td>0.5121</td></tr>",
                            "<tr><td>Djibouti</td><td>0.5121</td></tr>",
                            "<tr><td>Gambia</td><td>0.5121</td></tr>",
                            "<tr><td>Jordan</td><td>0.5121</td></tr>",
                            "<tr><td>Bosnia and Herzegovina</td><td>0.5121</td></tr>",
                            "<tr><td>Lebanon</td><td>0.5121</td></tr>",
                            "<tr><td>Tajikistan</td><td>0.5121</td></tr>",
                            "<tr><td>Israel</td><td>0.5121</td></tr>",
                            "<tr><td>Ukraine</td><td>0.5121</td></tr>",
                            "<tr><td>Mozambique</td><td>0.5121</td></tr>",
                            "<tr><td>Sao Tome and Principe</td><td>0.5121</td></tr>",
                            "<tr><td>Serbia</td><td>0.5121</td></tr>",
                            "<tr><td>Argentina</td><td>0.5121</td></tr>",
                            "<tr><td>Yemen</td><td>0.5121</td></tr>",
                            "<tr><td>Azerbaijan</td><td>0.5121</td></tr>",
                            "<tr><td>Zambia</td><td>0.5121</td></tr>",
                            "<tr><td>Benin</td><td>0.5121</td></tr>",
                            "<tr><td>Brazil</td><td>0.5121</td></tr>",
                            "<tr><td>Malaysia</td><td>0.5121</td></tr>",
                            "<tr><td>South Sudan</td><td>0.5121</td></tr>",
                            "<tr><td>South Korea</td><td>0.5121</td></tr>",
                            "<tr><td>Micronesia (country)</td><td>0.5121</td></tr>",
                            "<tr><td>Myanmar</td><td>0.5121</td></tr>",
                            "<tr><td>Colombia</td><td>0.5121</td></tr>",
                            "<tr><td>Philippines</td><td>0.5121</td></tr>",
                            "<tr><td>Haiti</td><td>0.5121</td></tr>",
                            "<tr><td>Laos</td><td>0.5121</td></tr>",
                            "<tr><td>Oman</td><td>0.5121</td></tr>",
                            "<tr><td>Algeria</td><td>0.5121</td></tr>",
                            "<tr><td>Cape Verde</td><td>0.5121</td></tr>",
                            "<tr><td>Lithuania</td><td>0.5121</td></tr>",
                            "<tr><td>New Zealand</td><td>0.5121</td></tr>",
                            "<tr><td>Bahamas</td><td>0.5121</td></tr>",
                            "<tr><td>Eritrea</td><td>0.5121</td></tr>",
                            "<tr><td>Kuwait</td><td>0.5121</td></tr>",
                            "<tr><td>Bahrain</td><td>0.5121</td></tr>",
                            "<tr><td>Bulgaria</td><td>0.5121</td></tr>",
                            "<tr><td>Nepal</td><td>0.5121</td></tr>",
                            "<tr><td>Bhutan</td><td>0.5121</td></tr>",
                            "<tr><td>Denmark</td><td>0.5121</td></tr>",
                            "<tr><td>Sweden</td><td>0.5121</td></tr>",
                            "<tr><td>Burundi</td><td>0.5121</td></tr>",
                            "<tr><td>Dominica</td><td>0.5121</td></tr>",
                            "<tr><td>Nigeria</td><td>0.5121</td></tr>",
                            "<tr><td>Namibia</td><td>0.5121</td></tr>",
                            "<tr><td>Antigua and Barbuda</td><td>0.5121</td></tr>",
                            "<tr><td>Uganda</td><td>0.5121</td></tr>",
                            "<tr><td>Ethiopia</td><td>0.5121</td></tr>",
                            "<tr><td>Madagascar</td><td>0.5121</td></tr>",
                            "<tr><td>Bangladesh</td><td>0.5121</td></tr>",
                            "<tr><td>Mauritania</td><td>0.5121</td></tr>",
                            "<tr><td>Russia</td><td>0.5121</td></tr>",
                            "<tr><td>Sudan</td><td>0.5121</td></tr>",
                            "<tr><td>Ecuador</td><td>0.5121</td></tr>",
                            "<tr><td>Netherlands</td><td>0.5121</td></tr>",
                            "<tr><td>Estonia</td><td>0.5121</td></tr>",
                            "<tr><td>Saint Vincent and the Grenadines</td><td>0.5121</td></tr>",
                            "<tr><td>Hungary</td><td>0.5121</td></tr>",
                            "<tr><td>Samoa</td><td>0.5121</td></tr>",
                            "<tr><td>Mauritius</td><td>0.5121</td></tr>",
                            "<tr><td>Switzerland</td><td>0.5121</td></tr>",
                            "<tr><td>Morocco</td><td>0.5121</td></tr>",
                            "<tr><td>France</td><td>0.5121</td></tr>",
                            "<tr><td>Palestine</td><td>0.5121</td></tr>",
                            "<tr><td>Vanuatu</td><td>0.5121</td></tr>",
                            "<tr><td>Spain</td><td>0.5121</td></tr>",
                            "<tr><td>Belarus</td><td>0.5121</td></tr>",
                            "<tr><td>Cote d'Ivoire</td><td>0.5121</td></tr>",
                            "<tr><td>Marshall Islands</td><td>0.5121</td></tr>",
                            "<tr><td>Mongolia</td><td>0.5121</td></tr>",
                            "<tr><td>Senegal</td><td>0.5121</td></tr>",
                            "<tr><td>Jamaica</td><td>0.5121</td></tr>",
                            "<tr><td>Timor</td><td>0.5121</td></tr>",
                            "<tr><td>Hong Kong</td><td>0.5121</td></tr>",
                            "<tr><td>Australia</td><td>0.5121</td></tr>",
                            "<tr><td>Uzbekistan</td><td>0.5121</td></tr>",
                            "<tr><td>Guinea</td><td>0.5121</td></tr>",
                            "<tr><td>Chad</td><td>0.5121</td></tr>",
                            "<tr><td>Sri Lanka</td><td>0.5121</td></tr>",
                            "<tr><td>Qatar</td><td>0.5121</td></tr>",
                            "<tr><td>Guyana</td><td>0.5121</td></tr>",
                            "<tr><td>Turkey</td><td>0.5121</td></tr>",
                            "<tr><td>Georgia</td><td>0.5121</td></tr>",
                            "<tr><td>Uruguay</td><td>0.5121</td></tr>",
                            "<tr><td>Austria</td><td>0.5121</td></tr>",
                            "<tr><td>Vietnam</td><td>0.5121</td></tr>",
                            "<tr><td>Canada</td><td>0.5121</td></tr>",
                            "<tr><td>Barbados</td><td>0.5121</td></tr>",
                            "<tr><td>Finland</td><td>0.5121</td></tr>",
                            "<tr><td>Nicaragua</td><td>0.5121</td></tr>",
                            "<tr><td>Bolivia</td><td>0.5121</td></tr>",
                            "<tr><td>Chile</td><td>0.5121</td></tr>",
                            "<tr><td>Honduras</td><td>0.5121</td></tr>",
                            "<tr><td>Germany</td><td>0.5121</td></tr>",
                            "<tr><td>Saint Lucia</td><td>0.5121</td></tr>",
                            "<tr><td>Norway</td><td>0.5121</td></tr>",
                            "<tr><td>Armenia</td><td>0.5121</td></tr>",
                            "<tr><td>Brunei</td><td>0.5121</td></tr>",
                            "<tr><td>United Arab Emirates</td><td>0.5121</td></tr>",
                            "<tr><td>Iran</td><td>0.5121</td></tr>",
                            "<tr><td>Belize</td><td>0.5121</td></tr>",
                            "<tr><td>Slovakia</td><td>0.5121</td></tr>",
                            "<tr><td>Fiji</td><td>0.5121</td></tr>",
                            "<tr><td>Greece</td><td>0.5121</td></tr>",
                            "<tr><td>Guinea-Bissau</td><td>0.5121</td></tr>",
                            "<tr><td>Suriname</td><td>0.5121</td></tr>",
                            "<tr><td>Sierra Leone</td><td>0.5121</td></tr>",
                            "<tr><td>Poland</td><td>0.5121</td></tr>",
                            "<tr><td>Seychelles</td><td>0.5121</td></tr>",
                            "<tr><td>Equatorial Guinea</td><td>0.5121</td></tr>",
                            "<tr><td>India</td><td>0.5121</td></tr>",
                            "<tr><td>Kiribati</td><td>0.5121</td></tr>",
                            "<tr><td>South Africa</td><td>0.5121</td></tr>",
                            "<tr><td>Togo</td><td>0.5121</td></tr>",
                            "<tr><td>Central African Republic</td><td>0.5121</td></tr>",
                            "<tr><td>Comoros</td><td>0.5121</td></tr>",
                            "<tr><td>Afghanistan</td><td>0.5121</td></tr>",
                            "<tr><td>Moldova</td><td>0.5121</td></tr>",
                            "<tr><td>Romania</td><td>0.5121</td></tr>",
                            "<tr><td>Venezuela</td><td>0.5121</td></tr>",
                            "<tr><td>Italy</td><td>0.5121</td></tr>",
                            "<tr><td>Mali</td><td>0.5121</td></tr>",
                            "<tr><td>Panama</td><td>0.5121</td></tr>",
                            "<tr><td>Japan</td><td>0.5121</td></tr>",
                            "<tr><td>Angola</td><td>0.5121</td></tr>",
                            "<tr><td>China</td><td>0.5121</td></tr>",
                            "<tr><td>Slovenia</td><td>0.5121</td></tr>",
                            "<tr><td>Czechia</td><td>0.5121</td></tr>",
                            "<tr><td>Thailand</td><td>0.5121</td></tr>",
                            "<tr><td>Egypt</td><td>0.5121</td></tr>",
                            "<tr><td>North Macedonia</td><td>0.5121</td></tr>",
                            "</table>"
                        ]
                    }
                }
            ],
            "execution_count": 3
        },
        {
            "cell_type": "markdown",
            "source": [
                "Percentage of hospitalization among infected cases for each location around the world (some location don't have record)"
            ],
            "metadata": {
                "azdata_cell_guid": "50ddb9b1-9b56-4442-a17a-b5ae6bad91d1"
            },
            "attachments": {}
        },
        {
            "cell_type": "code",
            "source": [
                "SELECT continent, location, date, total_cases, hosp_patients,\n",
                "       ROUND((CAST(hosp_patients AS float)/ CAST(total_cases AS float) * 100), 4) AS hospital_percent\n",
                "FROM Covid_Infection..Covid_Death_Rate\n",
                "WHERE hosp_patients IS NOT NULL \n",
                "ORDER BY 2, 3"
            ],
            "metadata": {
                "azdata_cell_guid": "946dd678-418a-4e5c-8202-b6ea7a59057f",
                "tags": [
                    "hide_input"
                ],
                "language": "sql"
            },
            "outputs": [],
            "execution_count": null
        },
        {
            "cell_type": "markdown",
            "source": [
                "Total death among infected cases for each location (calculating the death rate)"
            ],
            "metadata": {
                "azdata_cell_guid": "13941bfc-2d8d-443a-9ef2-6e34c36439b2"
            },
            "attachments": {}
        },
        {
            "cell_type": "code",
            "source": [
                "--consider countries with reported death cases \n",
                "SELECT continent, location, total_cases, total_deaths,\n",
                "       ROUND((CONVERT(float, total_deaths) / CONVERT(float, total_cases) * 100),4) AS death_percent\n",
                "FROM Covid_Infection..Covid_Death_Rate\n",
                "WHERE total_deaths IS NOT NULL \n",
                "AND total_cases IS NOT NULL "
            ],
            "metadata": {
                "azdata_cell_guid": "3663fcea-8d02-4a82-909d-592569644355",
                "tags": [
                    "hide_input"
                ],
                "language": "sql"
            },
            "outputs": [],
            "execution_count": null
        },
        {
            "cell_type": "markdown",
            "source": [
                "Testing percent for each country based on population of the country (what is percentage of people go testing)"
            ],
            "metadata": {
                "azdata_cell_guid": "62f46624-e596-4c5c-854e-19172eca87db"
            },
            "attachments": {}
        },
        {
            "cell_type": "code",
            "source": [
                "--consider countries with reported test cases\n",
                "SELECT va.location, de.population, va.total_tests,\n",
                "       ROUND((CONVERT(float, va.total_tests) / CONVERT(float, de.population) * 100), 4) AS test_percent\n",
                "FROM Covid_Infection..Covid_Vaccination va\n",
                "JOIN Covid_Infection..Covid_Death_Rate de\n",
                "    ON va.location = de.location \n",
                "    AND va.date = de.date \n",
                "WHERE total_tests IS NOT NULL\n",
                "ORDER BY va.location"
            ],
            "metadata": {
                "azdata_cell_guid": "83797955-e2e8-43ec-8097-32379b7b2044",
                "tags": [
                    "hide_input"
                ],
                "language": "sql"
            },
            "outputs": [],
            "execution_count": null
        },
        {
            "cell_type": "markdown",
            "source": [
                "Fully vaccination rate for each continent \n",
                "\n",
                "\\*For each country, it the same as people\\_fully\\_vaccinated\\_per\\_hundred\\*"
            ],
            "metadata": {
                "azdata_cell_guid": "1365ad02-9e11-40a8-ab00-feb8403a65d0"
            },
            "attachments": {}
        },
        {
            "cell_type": "code",
            "source": [
                "--continent: sum population and fully_vac to find continental vac percent\n",
                "WITH total AS(\n",
                "    SELECT va.continent, SUM(de.population) AS sum_pop, SUM(va.people_fully_vaccinated) AS sum_vac\n",
                "    FROM Covid_Infection..Covid_Vaccination va\n",
                "    JOIN Covid_Infection..Covid_Death_Rate de\n",
                "        ON va.location = de.location \n",
                "    AND va.date = de.date \n",
                "    WHERE people_fully_vaccinated IS NOT NULL\n",
                "    GROUP BY va.continent, de.continent\n",
                ")\n",
                "SELECT continent, sum_pop, sum_vac,\n",
                "       ROUND((CONVERT(float, sum_vac) / CONVERT(float, sum_pop) * 100), 4) AS vac_percent\n",
                "FROM total\n",
                "ORDER BY continent\n",
                ""
            ],
            "metadata": {
                "azdata_cell_guid": "f548481f-6a21-4705-9fbb-f40f7a45466f",
                "tags": [
                    "hide_input"
                ],
                "language": "sql"
            },
            "outputs": [],
            "execution_count": null
        },
        {
            "cell_type": "markdown",
            "source": [
                "Do countries with higher fully vaccination rate have lower death rate?"
            ],
            "metadata": {
                "azdata_cell_guid": "95ad5d36-c632-42a3-9314-f596642fce34"
            },
            "attachments": {}
        },
        {
            "cell_type": "code",
            "source": [
                "--find the lowest death rate\n",
                "/*\n",
                "SELECT location, MIN(total_cases) AS lowest_cases, MIN(total_deaths) AS lowest_death,\n",
                "       MIN(CONVERT(float, total_deaths) / CONVERT(float, total_cases) * 100) AS death_percent\n",
                "FROM Covid_Infection..Covid_Death_Rate\n",
                "WHERE total_deaths IS NOT NULL \n",
                "AND total_cases IS NOT NULL \n",
                "GROUP BY location, total_cases\n",
                "ORDER BY death_percent;\n",
                "\n",
                "--find highest fully vaccination rate\n",
                "SELECT location, MAX(people_fully_vaccinated_per_hundred) AS Highest_vaccination\n",
                "FROM Covid_Infection..Covid_Vaccination\n",
                "GROUP BY location \n",
                "ORDER BY Highest_vaccination DESC;\n",
                "*/\n",
                "--combine the two tables for reference\n",
                "WITH low_death_rate AS (\n",
                "   SELECT location, MIN(total_cases) AS lowest_cases, MIN(total_deaths) AS lowest_death,\n",
                "       ROUND(MIN(CONVERT(float, total_deaths) / CONVERT(float, total_cases) * 100), 4) AS death_percent\n",
                "   FROM Covid_Infection..Covid_Death_Rate\n",
                "   WHERE total_deaths IS NOT NULL \n",
                "   AND total_cases IS NOT NULL \n",
                "   GROUP BY location\n",
                ")\n",
                "SELECT va.location, low_death_rate.lowest_cases, \n",
                "       va.people_fully_vaccinated_per_hundred, \n",
                "       low_death_rate.death_percent\n",
                "FROM Covid_Infection..Covid_Vaccination va \n",
                "JOIN low_death_rate\n",
                "    ON va.location = low_death_rate.location\n",
                "ORDER BY va.people_fully_vaccinated_per_hundred DESC\n",
                ""
            ],
            "metadata": {
                "azdata_cell_guid": "4d1737a3-87c6-4899-9dd1-6686c5cb596d",
                "tags": [],
                "language": "sql"
            },
            "outputs": [],
            "execution_count": null
        },
        {
            "cell_type": "code",
            "source": [
                "--find the correlation between the two\n",
                "DROP TABLE IF EXISTS Death_Rate\n",
                "CREATE TABLE Death_Rate (\n",
                "    Location VARCHAR(50),\n",
                "    Population VARCHAR(50),\n",
                "    Fully_Vacc_Rates FLOAT,\n",
                "    Death_Rates FLOAT\n",
                ")\n",
                "INSERT INTO Death_Rate\n",
                "SELECT va.location, death_percent.population, va.people_fully_vaccinated, death_percent.Death_rate\n",
                "FROM Covid_Infection..Covid_Vaccination va, \n",
                "    (SELECT location, population, AVG(total_deaths) AS avg_case, \n",
                "     ROUND(((CAST(AVG(total_deaths) AS float) / CAST(population AS float)) * 100), 4) AS Death_rate\n",
                "     FROM Covid_Infection..Covid_Death_Rate\n",
                "     WHERE total_deaths IS NOT NULL\n",
                "     GROUP BY location, population) death_percent\n",
                "WHERE va.location = death_percent.location\n",
                "AND va.people_fully_vaccinated IS NOT NULL\n",
                "GROUP BY va.location, va.people_fully_vaccinated, death_percent.location, \n",
                "         death_percent.population, death_percent.Death_rate\n",
                "ORDER BY va.people_fully_vaccinated DESC;\n",
                "\n",
                "--calculate mean, var(), std deviation\n",
                "WITH Mean AS (\n",
                "    SELECT Fully_Vacc_Rates, Death_Rates,\n",
                "           AVG(Fully_Vacc_Rates) OVER() AS vacc_mean, \n",
                "           AVG(Death_Rates) OVER() AS death_mean\n",
                "    FROM Death_Rate\n",
                "),\n",
                "Variance AS (\n",
                "    SELECT AVG(POWER((Fully_Vacc_Rates - vacc_mean), 2)) AS vacc_varr, \n",
                "           AVG(POWER((Death_Rates - death_mean), 2)) AS death_varr\n",
                "    FROM Mean\n",
                "),\n",
                "Std_Dev AS (\n",
                "    SELECT STDEV(Fully_Vacc_Rates) AS vac_stdev, \n",
                "           STDEV(Death_Rates) AS death_stdev\n",
                "    FROM Mean\n",
                "),\n",
                "Covariance As (\n",
                "    SELECT AVG((Fully_Vacc_Rates - vacc_mean) * (Death_Rates - death_mean)) AS cov\n",
                "    FROM Mean\n",
                ")\n",
                "SELECT ROUND(cov / (vac_stdev * death_stdev), 4) AS Correlation \n",
                "FROM Std_Dev, Covariance;\n",
                ""
            ],
            "metadata": {
                "language": "sql",
                "azdata_cell_guid": "7feeb07e-d31b-4867-88ec-610375034763",
                "tags": []
            },
            "outputs": [],
            "execution_count": null
        },
        {
            "cell_type": "markdown",
            "source": [
                "World stats: total cases, vaccination rate and death rate"
            ],
            "metadata": {
                "azdata_cell_guid": "80c3c499-8c6a-4b13-9388-8623a29a83e2"
            },
            "attachments": {}
        },
        {
            "cell_type": "code",
            "source": [
                "--join the tables\n",
                "SELECT SUM(de.total_cases) AS global_cases, \n",
                "       SUM(de.total_deaths) AS global_deaths,\n",
                "       SUM(va.people_fully_vaccinated) AS global_fully_vaccinated\n",
                "FROM Covid_Infection..Covid_Death_Rate de \n",
                "JOIN Covid_Infection..Covid_Vaccination va\n",
                "    ON de.location = va.location \n",
                "    AND de.date = va.date "
            ],
            "metadata": {
                "azdata_cell_guid": "8951fb3c-55e5-45f0-90ce-7adcd6ecc67b",
                "tags": [
                    "hide_input"
                ],
                "language": "sql"
            },
            "outputs": [],
            "execution_count": null
        }
    ]
}